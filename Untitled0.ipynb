{
  "nbformat": 4,
  "nbformat_minor": 0,
  "metadata": {
    "colab": {
      "provenance": [],
      "authorship_tag": "ABX9TyNQPMF157ymR7lP2O/4uWn+",
      "include_colab_link": true
    },
    "kernelspec": {
      "name": "python3",
      "display_name": "Python 3"
    },
    "language_info": {
      "name": "python"
    }
  },
  "cells": [
    {
      "cell_type": "markdown",
      "metadata": {
        "id": "view-in-github",
        "colab_type": "text"
      },
      "source": [
        "<a href=\"https://colab.research.google.com/github/JacquiASJames/Colab-practice/blob/main/Untitled0.ipynb\" target=\"_parent\"><img src=\"https://colab.research.google.com/assets/colab-badge.svg\" alt=\"Open In Colab\"/></a>"
      ]
    },
    {
      "cell_type": "code",
      "execution_count": null,
      "metadata": {
        "colab": {
          "base_uri": "https://localhost:8080/"
        },
        "id": "aIxxN7EXg4BP",
        "outputId": "ff27ac41-6642-41d3-ce44-ecb7c1261abd"
      },
      "outputs": [
        {
          "output_type": "stream",
          "name": "stdout",
          "text": [
            "hello world\n"
          ]
        }
      ],
      "source": [
        "print(\"hello world\")"
      ]
    },
    {
      "cell_type": "markdown",
      "source": [
        "This is where **you** type your annotations, what are your *assumptions*\n",
        "\n",
        "#Heading\n",
        "##Heading\n",
        "###Heading\n",
        "\n",
        "__bold__   \n",
        "\n",
        "'''good'''\n",
        "\n",
        "```good```\n",
        "`got`\\\n",
        "mj\n"
      ],
      "metadata": {
        "id": "LdhLLudMhhEP"
      }
    },
    {
      "cell_type": "code",
      "source": [],
      "metadata": {
        "id": "K_kzyjg9mpSP"
      },
      "execution_count": null,
      "outputs": []
    },
    {
      "cell_type": "markdown",
      "source": [
        "#1,5000 scientists lift lid  \n",
        "  \n",
        "##**Survey sheds light 'crisis'**  \n",
        "\n",
        "###**by Mona**   \n",
        "\n",
        "**More than 70%**, and more than half"
      ],
      "metadata": {
        "id": "k615zrQemrGE"
      }
    },
    {
      "cell_type": "markdown",
      "source": [
        "# 1,500 scientists lift the lid on reproducibility\n",
        "\n",
        "## Survey sheds light on the 'crisis' rocking research.\n",
        "### by Mona Baker\n",
        "\n",
        "**More than 70% of researchers have tried and failed to reproduce another scientist's experiments**, and more than half\n",
        "have failed to reproduce their own experiments. Those are some of the telling figures that emerged from *Nature*'s survey\n",
        "of 1,576 researchers who took a brief online questionnaire on reproducibility in research.\n",
        "\n",
        "The data reveal sometimes-contradictory attitudes towards reproducibility. Although 52% of those surveyed agree that\n",
        "there is a significant crisis of reproducibility, less than 31% think that failure to reproduce published results means\n",
        "that the result is probably wrong, and most say that they still trust the published literature.\n",
        "\n",
        "![Reproducibility crisis](https://www.nature.com/news/polopoly_fs/7.36716.1469695923!/image/reproducibility-graphic-online1.jpeg_gen/derivatives/landscape_630/reproducibility-graphic-online1.jpeg)\n",
        "\n",
        "# The Survey\n",
        "In the survey respondents were asked to rate 11 different approaches to improving reproducibilty in science. Below is the list order by the most highly rated:\n",
        "\n",
        "* Better understanding of statistics\n",
        "* Better mentoring/supervision\n",
        "* More robust design\n",
        "* Better teaching\n",
        "* More within-lab validation\n",
        "\n",
        "\n",
        "<underline</u>\n",
        "<underline</u>  \n",
        "\n",
        "* item   \n",
        "    * item   \n",
        "        * item   \n",
        "\n",
        " a footnote use   \n",
        " [^2]: foot note\n",
        "\n",
        "\n"
      ],
      "metadata": {
        "id": "E4WFsDJ7ojDv"
      }
    },
    {
      "cell_type": "code",
      "source": [
        "import numpy as np\n",
        "import matplotlib.pyplot as plt\n",
        "\n",
        "x = np.linspace(0, 5, 100)\n",
        "\n",
        "plt.plot(x,x, label='Linear')\n",
        "plt.show()\n"
      ],
      "metadata": {
        "colab": {
          "base_uri": "https://localhost:8080/",
          "height": 430
        },
        "id": "98GBDxARuTE-",
        "outputId": "85a5db3b-98b0-47c5-fe9d-d5187226c46a"
      },
      "execution_count": null,
      "outputs": [
        {
          "output_type": "display_data",
          "data": {
            "text/plain": [
              "<Figure size 640x480 with 1 Axes>"
            ],
            "image/png": "[encoded data removed]"
          },
          "metadata": {}
        }
      ]
    },
    {
      "cell_type": "markdown",
      "source": [
        "<ins>text</ins>"
      ],
      "metadata": {
        "id": "b9kdavxKz70l"
      }
    }
  ]
}